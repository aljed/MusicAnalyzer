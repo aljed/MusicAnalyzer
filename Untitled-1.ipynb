{
    "cells": [
        {
            "cell_type": "code",
            "execution_count": 1,
            "metadata": {},
            "outputs": [
                {
                    "name": "stderr",
                    "output_type": "stream",
                    "text": [
                        "c:\\Users\\user\\PycharmProjects\\MusicAnalyzer\\data_retriever.py:17: SyntaxWarning: \"is\" with a literal. Did you mean \"==\"?\n",
                        "  if child.tag is \"note\":\n",
                        "c:\\Users\\user\\PycharmProjects\\MusicAnalyzer\\data_retriever.py:25: SyntaxWarning: \"is\" with a literal. Did you mean \"==\"?\n",
                        "  if next_child_tag is 'grace':\n",
                        "c:\\Users\\user\\PycharmProjects\\MusicAnalyzer\\data_retriever.py:27: SyntaxWarning: \"is\" with a literal. Did you mean \"==\"?\n",
                        "  elif next_child_tag is 'cue':\n",
                        "c:\\Users\\user\\PycharmProjects\\MusicAnalyzer\\data_retriever.py:30: SyntaxWarning: \"is\" with a literal. Did you mean \"==\"?\n",
                        "  if next_child_tag is 'chord':\n"
                    ]
                }
            ],
            "source": [
                "import xml.etree.ElementTree as ET\n",
                "import os\n",
                "import data_structure as ds \n",
                "import data_retriever as dr"
            ]
        },
        {
            "cell_type": "code",
            "execution_count": 2,
            "metadata": {},
            "outputs": [],
            "source": [
                "SCORES_PATH = \"scores\""
            ]
        },
        {
            "cell_type": "code",
            "execution_count": 3,
            "metadata": {},
            "outputs": [
                {
                    "name": "stdout",
                    "output_type": "stream",
                    "text": [
                        "[Measure(moment=[]), Measure(moment=[]), Measure(moment=[]), Measure(moment=[]), Measure(moment=[]), Measure(moment=[]), Measure(moment=[]), Measure(moment=[]), Measure(moment=[]), Measure(moment=[]), Measure(moment=[]), Measure(moment=[]), Measure(moment=[]), Measure(moment=[]), Measure(moment=[]), Measure(moment=[]), Measure(moment=[]), Measure(moment=[]), Measure(moment=[]), Measure(moment=[]), Measure(moment=[]), Measure(moment=[]), Measure(moment=[]), Measure(moment=[]), Measure(moment=[]), Measure(moment=[]), Measure(moment=[]), Measure(moment=[]), Measure(moment=[]), Measure(moment=[]), Measure(moment=[]), Measure(moment=[]), Measure(moment=[]), Measure(moment=[]), Measure(moment=[]), Measure(moment=[]), Measure(moment=[]), Measure(moment=[])]\n"
                    ]
                }
            ],
            "source": [
                "scores = os.listdir(SCORES_PATH)\n",
                "\n",
                "for score in scores:\n",
                "    score_tree = ET.parse(SCORES_PATH + '/' + score)\n",
                "    root = score_tree.getroot()\n",
                "    parts = root.findall(\"part\")\n",
                "    for part in parts:\n",
                "        measures = part.findall(\"measure\")\n",
                "        converted_measures = map(lambda measure: dr.XMLConverter.transformMeasure(measure), measures)\n",
                "        print(list(converted_measures))\n"
            ]
        },
        {
            "cell_type": "code",
            "execution_count": null,
            "metadata": {},
            "outputs": [],
            "source": []
        }
    ],
    "metadata": {
        "interpreter": {
            "hash": "247ab06e135bb35fa78c5eff31b2a9a0050dcb5fb773c2631d2a29ac689eeccb"
        },
        "kernelspec": {
            "display_name": "Python 3.9.6 64-bit",
            "name": "python3"
        },
        "language_info": {
            "codemirror_mode": {
                "name": "ipython",
                "version": 3
            },
            "file_extension": ".py",
            "mimetype": "text/x-python",
            "name": "python",
            "nbconvert_exporter": "python",
            "pygments_lexer": "ipython3",
            "version": "3.9.6"
        },
        "orig_nbformat": 4
    },
    "nbformat": 4,
    "nbformat_minor": 2
}
